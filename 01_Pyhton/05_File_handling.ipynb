{
 "cells": [
  {
   "cell_type": "markdown",
   "metadata": {},
   "source": [
    "###### <font color=\"Green\"><center> 27-02-2022 Sunday Created By Dinesh_Kapase"
   ]
  },
  {
   "cell_type": "markdown",
   "metadata": {},
   "source": [
    "# <font color=\"Pink\"><center> **File Handling**"
   ]
  },
  {
   "cell_type": "markdown",
   "metadata": {},
   "source": [
    "There are two types of files:\n",
    "1. Text\n",
    "2. Binary"
   ]
  },
  {
   "cell_type": "markdown",
   "metadata": {},
   "source": [
    "##### <center> **Oprations on File**\n",
    "1. Open \n",
    "2. Read\n",
    "3. Write \n",
    "4. Close"
   ]
  },
  {
   "cell_type": "markdown",
   "metadata": {},
   "source": [
    "##### Open\n",
    "open(filfename,mode)"
   ]
  },
  {
   "cell_type": "markdown",
   "metadata": {},
   "source": [
    "##### <center> **Modes of Text File**\n",
    "1. r &nbsp;&nbsp; Read    (By default)\n",
    "2. w &nbsp;&nbsp; Write\n",
    "3. a &nbsp;&nbsp; Append\n",
    "4. r+ &nbsp;Read + Write\n",
    "5. w+ &nbsp;Write + Read \n",
    "6. a+ &nbsp;Append + Read\n",
    "7. x &nbsp;&nbsp; Exclusive "
   ]
  },
  {
   "cell_type": "code",
   "execution_count": 1,
   "metadata": {},
   "outputs": [],
   "source": [
    "# Write\n",
    "z=\"from\"\n",
    "f = open('fsample.txt','w')\n",
    "f.write(\"hello world\")\n",
    "f.write(z)\n",
    "f.close()"
   ]
  },
  {
   "cell_type": "code",
   "execution_count": 2,
   "metadata": {},
   "outputs": [
    {
     "name": "stdout",
     "output_type": "stream",
     "text": [
      "hello worldfrom\n"
     ]
    }
   ],
   "source": [
    "#Read\n",
    "f = open('fsample.txt','r')\n",
    "data = f.read()\n",
    "f.close()\n",
    "print(data)"
   ]
  },
  {
   "cell_type": "markdown",
   "metadata": {},
   "source": [
    "#### Python Create and Open a File\n",
    "Python has an in-built function called open() to open a file.\n",
    "\n",
    "It takes a minimum of one argument as mentioned in the below syntax.\n",
    "The open method returns a file object which is used to access the write, read and other in-built methods.\n",
    "\n",
    "##### Syntax:\n",
    "file_object = open(file_name, mode)"
   ]
  },
  {
   "cell_type": "markdown",
   "metadata": {},
   "source": [
    "#### Python Read From File\n",
    "In order to read a file in python, we must open the file in read mode.\n",
    "\n",
    "##### There are three ways in which we can read the files in python.\n",
    "read([n])<br>\n",
    "readline([n])<br>\n",
    "readlines()<br>\n",
    "Here, n is the number of bytes to be read."
   ]
  },
  {
   "cell_type": "code",
   "execution_count": 3,
   "metadata": {},
   "outputs": [
    {
     "name": "stdout",
     "output_type": "stream",
     "text": [
      "hello world\n"
     ]
    }
   ],
   "source": [
    "my_file = open(\"fsample.txt\", \"r\")\n",
    "print(my_file.read(11))"
   ]
  },
  {
   "cell_type": "code",
   "execution_count": 4,
   "metadata": {},
   "outputs": [
    {
     "name": "stdout",
     "output_type": "stream",
     "text": [
      "hello worldfrom\n"
     ]
    }
   ],
   "source": [
    "my_file = open(\"fsample.txt\", \"r\")\n",
    "print(my_file.read())"
   ]
  },
  {
   "cell_type": "code",
   "execution_count": 5,
   "metadata": {},
   "outputs": [
    {
     "name": "stdout",
     "output_type": "stream",
     "text": [
      "hel\n"
     ]
    }
   ],
   "source": [
    "# This function returns the first 3 characters of the next line.\n",
    "my_file = open(\"fsample.txt\", \"r\")\n",
    "print(my_file.readline(3))"
   ]
  },
  {
   "cell_type": "code",
   "execution_count": 6,
   "metadata": {},
   "outputs": [
    {
     "name": "stdout",
     "output_type": "stream",
     "text": [
      "hello worldfrom\n"
     ]
    }
   ],
   "source": [
    "# Using this function we can read the content of the file on a line by line basis.\n",
    "my_file = open(\"fsample.txt\", \"r\")\n",
    "print(my_file.readline())"
   ]
  },
  {
   "cell_type": "code",
   "execution_count": 7,
   "metadata": {},
   "outputs": [
    {
     "name": "stdout",
     "output_type": "stream",
     "text": [
      "['hello worldfrom']\n"
     ]
    }
   ],
   "source": [
    "# Here we are reading all the lines present inside the text file including the newline characters.\n",
    "my_file = open(\"fsample.txt\", \"r\")\n",
    "print(my_file.readlines())"
   ]
  },
  {
   "cell_type": "code",
   "execution_count": 8,
   "metadata": {},
   "outputs": [],
   "source": [
    "# Reading a specific line from a File\n",
    "line_number = 4\n",
    "fo = open(\"fsample.txt\", \"r\")\n",
    "currentline = 1\n",
    "for line in fo:\n",
    "        if(currentline == line_number):\n",
    "                    print(line)\n",
    "                    break\n",
    "        currentline = currentline + 1"
   ]
  },
  {
   "cell_type": "code",
   "execution_count": 9,
   "metadata": {},
   "outputs": [
    {
     "name": "stdout",
     "output_type": "stream",
     "text": [
      "hello worldfrom\n"
     ]
    }
   ],
   "source": [
    "# Reading the entire file at once\n",
    "filename = \"fsample.txt\"\n",
    "filehandle = open(filename, 'r')\n",
    "filedata = filehandle.read()\n",
    "print(filedata)"
   ]
  },
  {
   "cell_type": "markdown",
   "metadata": {},
   "source": [
    "#### Python Write to File\n",
    "In order to write data into a file, we must open the file in write mode.\n",
    "\n",
    "We need to be very careful while writing data into the file as it overwrites the content present inside the file that you are writing, and all the previous data will be erased.\n",
    "##### We have two methods for writing data into a file as shown below.\n",
    "write(string)<br>\n",
    "writelines(list)<br>"
   ]
  },
  {
   "cell_type": "code",
   "execution_count": 10,
   "metadata": {},
   "outputs": [],
   "source": [
    "my_file = open(\"sample.txt\", 'w')\n",
    "my_file.write(\"Hello World\")\n",
    "my_file.close()"
   ]
  },
  {
   "cell_type": "code",
   "execution_count": 11,
   "metadata": {},
   "outputs": [],
   "source": [
    "# The first line will be ‘Hello World’ and as we have mentioned \\n character, the cursor will move to the next line of the file and then write ‘Hello Python’.\n",
    "my_file = open(\"sample.txt\", 'w')\n",
    "my_file.write(\"Hello World\\n\")\n",
    "my_file.write(\"Hello Python\")\n",
    "my_file.close()"
   ]
  },
  {
   "cell_type": "code",
   "execution_count": 12,
   "metadata": {},
   "outputs": [],
   "source": [
    "# The above code writes a list of data into the ‘lssample.txt’ file simultaneously.\n",
    "fruits = [\"Apple\\n\", \"Orange\\n\", \"Grapes\\n\", \"Watermelon\"]\n",
    "my_file = open(\"lssample.txt\",'w')\n",
    "my_file.writelines(fruits)\n",
    "my_file.close()"
   ]
  },
  {
   "cell_type": "markdown",
   "metadata": {},
   "source": [
    "#### Python Append to File\n",
    "To append data into a file we must open the file in ‘a+’ mode so that we will have access to both the append as well as write modes."
   ]
  },
  {
   "cell_type": "code",
   "execution_count": 13,
   "metadata": {},
   "outputs": [],
   "source": [
    "my_file = open(\"lssample.txt\", 'a+')\n",
    "my_file.write (\"Strawberry\")\n",
    "my_file.close()"
   ]
  },
  {
   "cell_type": "code",
   "execution_count": 14,
   "metadata": {},
   "outputs": [],
   "source": [
    "# The below code appends the string ‘Apple’ at the end of the lssample.txt’ file in a new line.\n",
    "my_file = open(\"lssample.txt\", 'a+')\n",
    "my_file.write (\"\\nGuava\")\n",
    "my_file.close()"
   ]
  },
  {
   "cell_type": "code",
   "execution_count": 15,
   "metadata": {},
   "outputs": [],
   "source": [
    "# The below code appends a list of data into a lssample.txt’ file.\n",
    "fruits = [\"\\nBanana\", \"\\nAvocado\", \"\\nFigs\", \"\\nMango\"]\n",
    "my_file = open(\"lssample.txt\", 'a+')\n",
    "my_file.writelines(fruits)\n",
    "my_file.close()"
   ]
  },
  {
   "cell_type": "code",
   "execution_count": 16,
   "metadata": {},
   "outputs": [
    {
     "name": "stdout",
     "output_type": "stream",
     "text": [
      "where the file cursor is: 100\n",
      "Apple\n",
      "\n",
      "Orange\n",
      "\n",
      "Grapes\n",
      "\n",
      "WatermelonStrawberry\n",
      "\n",
      "Guava\n",
      "\n",
      "Banana\n",
      "\n",
      "Avocado\n",
      "\n",
      "Figs\n",
      "\n",
      "Mango\n",
      "\n",
      "Hello\n",
      "\n",
      "Hii\n",
      "\n",
      "Python\n"
     ]
    }
   ],
   "source": [
    "# In the above code, we are appending the list of data into the ‘lssample.txt’ file. \n",
    "# Here, you can observe that we have used the tell() method which prints where the cursor is currently at.\n",
    "\n",
    "# seek(offset): The offset takes three types of arguments namely 0,1 and 2.\n",
    "# When the offset is 0: Reference will be pointed at the beginning of the file.\n",
    "# When the offset is 1: Reference will be pointed at the current cursor position.\n",
    "# When the offset is 2: Reference will be pointed at the end of the file.\n",
    "text=[\"\\nHello\",\"\\nHii\",\"\\nPython\"]\n",
    "my_file=open(\"lssample.txt\",mode ='a+')\n",
    "my_file.writelines(text)\n",
    "print(\"where the file cursor is:\",my_file.tell())\n",
    "my_file.seek(0)\n",
    "for line in my_file:\n",
    "      print(line)"
   ]
  },
  {
   "cell_type": "markdown",
   "metadata": {},
   "source": [
    "#### Python Rename or Delete File\n",
    "Python provides us with an “os” module which has some in-built methods that would help us in performing the file operations such as renaming and deleting the file.\n",
    "\n",
    "In order to use this module, first of all, we need to import the “os” module in our program and then call the related methods.\n",
    "##### rename() method:\n",
    "This rename() method accepts two arguments i.e. the current file name and the new file name.\n",
    "##### Syntax:\n",
    "os.rename(current_file_name, new_file_name)"
   ]
  },
  {
   "cell_type": "code",
   "execution_count": 17,
   "metadata": {},
   "outputs": [],
   "source": [
    "# Here ‘sample.txt’ is the current file name and ‘sample1.txt’ is the new file name.\n",
    "import os\n",
    "os.rename(\"sample.txt\", \"sample1.txt\")"
   ]
  },
  {
   "cell_type": "code",
   "execution_count": 19,
   "metadata": {},
   "outputs": [],
   "source": [
    "# You can specify the location as well as shown in the below example.\n",
    "import os\n",
    "os.rename('D:\\\\Data journy\\\\01_Pyhton\\\\sample2.txt', 'D:\\\\Data journy\\\\01_Pyhton\\\\sample3.txt')"
   ]
  },
  {
   "cell_type": "code",
   "execution_count": null,
   "metadata": {},
   "outputs": [],
   "source": []
  }
 ],
 "metadata": {
  "interpreter": {
   "hash": "619d769253c6373b04549ec5b49989d4393576b7f88924d884f5804d533fbfa4"
  },
  "kernelspec": {
   "display_name": "Python 3.8.8 64-bit",
   "language": "python",
   "name": "python3"
  },
  "language_info": {
   "codemirror_mode": {
    "name": "ipython",
    "version": 3
   },
   "file_extension": ".py",
   "mimetype": "text/x-python",
   "name": "python",
   "nbconvert_exporter": "python",
   "pygments_lexer": "ipython3",
   "version": "3.8.8"
  },
  "orig_nbformat": 4
 },
 "nbformat": 4,
 "nbformat_minor": 2
}
