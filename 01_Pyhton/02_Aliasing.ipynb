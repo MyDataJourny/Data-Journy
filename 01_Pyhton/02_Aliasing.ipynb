{
 "cells": [
  {
   "cell_type": "markdown",
   "metadata": {},
   "source": [
    "###### 25-02-2022"
   ]
  },
  {
   "cell_type": "markdown",
   "metadata": {},
   "source": [
    "# Aliasing\n",
    "### Aliasing happens when the value of one variable is assigned to another variable because variables are just names that store references to actual value.\n",
    "\n",
    "### Aliasing is when two different variables reference the same object in Python."
   ]
  },
  {
   "cell_type": "code",
   "execution_count": 1,
   "metadata": {},
   "outputs": [
    {
     "name": "stdout",
     "output_type": "stream",
     "text": [
      "30\n",
      "30\n"
     ]
    }
   ],
   "source": [
    "# Aliasing in variable\n",
    "t = (10, 20, 30, 40, 50) \n",
    "u = t \n",
    "print(t[2]) # 30 \n",
    "print(u[2]) # 30 "
   ]
  },
  {
   "cell_type": "code",
   "execution_count": 2,
   "metadata": {},
   "outputs": [
    {
     "name": "stdout",
     "output_type": "stream",
     "text": [
      "9\n"
     ]
    }
   ],
   "source": [
    "# Aliasing in Function\n",
    "def square(x): \n",
    "    return x*x \n",
    "\n",
    "sq = square \n",
    "\n",
    "a = 3 \n",
    "print(sq(a)) # 9 "
   ]
  },
  {
   "cell_type": "code",
   "execution_count": null,
   "metadata": {},
   "outputs": [],
   "source": []
  }
 ],
 "metadata": {
  "interpreter": {
   "hash": "409ad220aac76c9faf99e4c4020b1f459eb85a1ee45e8d2b611d9184a82579b2"
  },
  "kernelspec": {
   "display_name": "Python 3.8.8 ('base')",
   "language": "python",
   "name": "python3"
  },
  "language_info": {
   "codemirror_mode": {
    "name": "ipython",
    "version": 3
   },
   "file_extension": ".py",
   "mimetype": "text/x-python",
   "name": "python",
   "nbconvert_exporter": "python",
   "pygments_lexer": "ipython3",
   "version": "3.8.8"
  },
  "orig_nbformat": 4
 },
 "nbformat": 4,
 "nbformat_minor": 2
}
