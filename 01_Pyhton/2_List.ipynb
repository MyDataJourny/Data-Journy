{
 "cells": [
  {
   "cell_type": "markdown",
   "id": "76d25e35-44a2-48ed-91c8-6fb932ca248d",
   "metadata": {},
   "source": [
    "# List"
   ]
  },
  {
   "cell_type": "markdown",
   "id": "78d5d902-217e-4312-a305-ca5384ff6dd8",
   "metadata": {},
   "source": [
    "List is collection of diffrent data types.\n",
    "\n",
    "Denoted by [ ]"
   ]
  },
  {
   "cell_type": "code",
   "execution_count": 2,
   "id": "86a979e8-1e88-4973-a8c9-ba9b68cf1cb4",
   "metadata": {},
   "outputs": [],
   "source": [
    "#1.Homogeneous list\n",
    "p=['a','b','c']"
   ]
  },
  {
   "cell_type": "code",
   "execution_count": 3,
   "id": "7e475fb6-b51a-4d36-94bd-8917c1ae2e52",
   "metadata": {
    "tags": []
   },
   "outputs": [],
   "source": [
    "#2.Heterogenous list\n",
    "q=['a',10,100.5]"
   ]
  },
  {
   "cell_type": "markdown",
   "id": "b4f9e72e-6229-4521-8a2f-762a6e2c0120",
   "metadata": {},
   "source": [
    "### List operations"
   ]
  },
  {
   "cell_type": "raw",
   "id": "23a26949-ba21-44f6-b8a1-7ee5549e4c74",
   "metadata": {},
   "source": [
    "1.insert\n",
    "2.len\n",
    "3.count\n",
    "4.copy\n",
    "5.remove\n",
    "6.sort\n",
    "7.pop\n",
    "8.clear\n",
    "9.append\n",
    "10.extend\n",
    "11.idnex\n",
    "12.Reverse"
   ]
  },
  {
   "cell_type": "code",
   "execution_count": 5,
   "id": "67c8f6c2-25ae-4abb-a85d-bbb803c4177c",
   "metadata": {},
   "outputs": [],
   "source": [
    "#1.Insert\n",
    "p=[10,20,30,40,50,30]"
   ]
  },
  {
   "cell_type": "code",
   "execution_count": 6,
   "id": "55163d8e-8a7f-4a86-9731-5683e3cb77f5",
   "metadata": {},
   "outputs": [],
   "source": [
    "p.insert(1,60)"
   ]
  },
  {
   "cell_type": "code",
   "execution_count": 7,
   "id": "e562277a-dfcb-4f05-af49-7590ddcec416",
   "metadata": {},
   "outputs": [
    {
     "data": {
      "text/plain": [
       "[10, 60, 20, 30, 40, 50, 30]"
      ]
     },
     "execution_count": 7,
     "metadata": {},
     "output_type": "execute_result"
    }
   ],
   "source": [
    "p"
   ]
  },
  {
   "cell_type": "code",
   "execution_count": 9,
   "id": "88f6bd6a-3489-45f4-8536-16ceee71ce41",
   "metadata": {},
   "outputs": [
    {
     "data": {
      "text/plain": [
       "7"
      ]
     },
     "execution_count": 9,
     "metadata": {},
     "output_type": "execute_result"
    }
   ],
   "source": [
    "#2.len\n",
    "len(p)"
   ]
  },
  {
   "cell_type": "code",
   "execution_count": 10,
   "id": "e4252302-6bce-472b-8dca-8f66d09e0c27",
   "metadata": {},
   "outputs": [
    {
     "data": {
      "text/plain": [
       "1"
      ]
     },
     "execution_count": 10,
     "metadata": {},
     "output_type": "execute_result"
    }
   ],
   "source": [
    "#3.count\n",
    "p.count(50)"
   ]
  },
  {
   "cell_type": "code",
   "execution_count": 11,
   "id": "d2b1acff-1eb9-4adf-b56c-2eb7fe650a66",
   "metadata": {},
   "outputs": [
    {
     "data": {
      "text/plain": [
       "2"
      ]
     },
     "execution_count": 11,
     "metadata": {},
     "output_type": "execute_result"
    }
   ],
   "source": [
    "#4.index\n",
    "p.index(20)"
   ]
  },
  {
   "cell_type": "code",
   "execution_count": 12,
   "id": "e9703aeb-dda2-4797-9da8-f99f7a067f0a",
   "metadata": {},
   "outputs": [
    {
     "name": "stdout",
     "output_type": "stream",
     "text": [
      "[30, 50, 40, 30, 20, 60, 10]\n"
     ]
    }
   ],
   "source": [
    "#5.reverse\n",
    "p.reverse()\n",
    "print(p)"
   ]
  },
  {
   "cell_type": "code",
   "execution_count": 13,
   "id": "70cb643b-3001-4939-8534-68ba099980aa",
   "metadata": {},
   "outputs": [
    {
     "name": "stdout",
     "output_type": "stream",
     "text": [
      "[30, 50, 40, 30, 20, 60, 10]\n"
     ]
    }
   ],
   "source": [
    "#6.copy\n",
    "p1=p.copy()\n",
    "print(p1)"
   ]
  },
  {
   "cell_type": "code",
   "execution_count": 14,
   "id": "93afa2a3-2de6-4df1-af43-85bd1a08c14e",
   "metadata": {},
   "outputs": [
    {
     "name": "stdout",
     "output_type": "stream",
     "text": [
      "[30, 50, 40, 30, 20, 10]\n"
     ]
    }
   ],
   "source": [
    "#7.remove\n",
    "#we are removing but directly element we are entring.\n",
    "p1.remove(60)\n",
    "print(p1)"
   ]
  },
  {
   "cell_type": "code",
   "execution_count": 15,
   "id": "0aeb3fa6-c863-443d-bb97-37845e4e9f6e",
   "metadata": {},
   "outputs": [
    {
     "name": "stdout",
     "output_type": "stream",
     "text": [
      "50\n"
     ]
    }
   ],
   "source": [
    "#8.pop\n",
    "# we remove by using index number.\n",
    "p=p1.pop(1)\n",
    "print(p)"
   ]
  },
  {
   "cell_type": "code",
   "execution_count": 16,
   "id": "60e544c7-0fb6-4296-8216-bca674b05e3f",
   "metadata": {},
   "outputs": [
    {
     "name": "stdout",
     "output_type": "stream",
     "text": [
      "[10, 20, 30, 30, 40]\n"
     ]
    }
   ],
   "source": [
    "#9.Sort\n",
    "# By default its ascending\n",
    "p1.sort()\n",
    "print(p1)"
   ]
  },
  {
   "cell_type": "code",
   "execution_count": 17,
   "id": "4f232c82-877e-4d08-8d5d-11914a164ec2",
   "metadata": {},
   "outputs": [
    {
     "name": "stdout",
     "output_type": "stream",
     "text": [
      "[40, 30, 30, 20, 10]\n"
     ]
    }
   ],
   "source": [
    "# For descending\n",
    "p1.sort(reverse=True)\n",
    "print(p1)"
   ]
  },
  {
   "cell_type": "code",
   "execution_count": 18,
   "id": "b9ff43d7-4baf-44a8-87b6-8c309a9bd64e",
   "metadata": {},
   "outputs": [
    {
     "name": "stdout",
     "output_type": "stream",
     "text": [
      "[30, 40, 50, 200, 90, 80, 200]\n"
     ]
    }
   ],
   "source": [
    "##10.Append\n",
    "#to insert single element at last if we are using passing more than one element gettng error.\n",
    "p3=[30,40,50,200,90,80]\n",
    "p3.append(200)\n",
    "print(p3)"
   ]
  },
  {
   "cell_type": "code",
   "execution_count": 19,
   "id": "6e6a7474-177c-4882-ad27-868013167c6f",
   "metadata": {},
   "outputs": [],
   "source": [
    "q7=[1,2,3]"
   ]
  },
  {
   "cell_type": "code",
   "execution_count": 20,
   "id": "c8b4c8c4-426c-4dd7-8f43-d6dc880698e6",
   "metadata": {},
   "outputs": [],
   "source": [
    "q7.append([10,20])"
   ]
  },
  {
   "cell_type": "code",
   "execution_count": 21,
   "id": "b9b2b794-4cb0-464d-9021-5c11d9e9014c",
   "metadata": {},
   "outputs": [
    {
     "data": {
      "text/plain": [
       "[1, 2, 3, [10, 20]]"
      ]
     },
     "execution_count": 21,
     "metadata": {},
     "output_type": "execute_result"
    }
   ],
   "source": [
    "q7"
   ]
  },
  {
   "cell_type": "code",
   "execution_count": 23,
   "id": "5af26f41-7c34-4c7b-9425-3fddafbb01f9",
   "metadata": {},
   "outputs": [],
   "source": [
    "#11.Extend\n",
    "q3=[10,40,70,80]\n",
    "q4=[80,10,400,600]\n",
    "q5=[40,300,600,500]"
   ]
  },
  {
   "cell_type": "code",
   "execution_count": 24,
   "id": "d955f866-5a40-4736-b96b-269f90b994a0",
   "metadata": {},
   "outputs": [],
   "source": [
    "q3.extend(q4)"
   ]
  },
  {
   "cell_type": "code",
   "execution_count": 26,
   "id": "0fda6370-098d-492f-870c-23c170768e0c",
   "metadata": {},
   "outputs": [
    {
     "name": "stdout",
     "output_type": "stream",
     "text": [
      "[10, 40, 70, 80, 80, 10, 400, 600]\n",
      "[30, 40, 50, 200, 90, 80, 200]\n",
      "[80, 10, 400, 600]\n"
     ]
    }
   ],
   "source": [
    "print(q3)\n",
    "print(p3)\n",
    "print(q4)"
   ]
  },
  {
   "cell_type": "code",
   "execution_count": 28,
   "id": "84f2375e-da22-4333-bc32-86cae6327279",
   "metadata": {},
   "outputs": [
    {
     "name": "stdout",
     "output_type": "stream",
     "text": [
      "[]\n"
     ]
    }
   ],
   "source": [
    "#12.Clear\n",
    "p3.clear()\n",
    "print(p3)"
   ]
  },
  {
   "cell_type": "code",
   "execution_count": null,
   "id": "5c68dcb1-19bd-432e-986a-6992805dc4e8",
   "metadata": {},
   "outputs": [],
   "source": []
  }
 ],
 "metadata": {
  "kernelspec": {
   "display_name": "Python 3",
   "language": "python",
   "name": "python3"
  },
  "language_info": {
   "codemirror_mode": {
    "name": "ipython",
    "version": 3
   },
   "file_extension": ".py",
   "mimetype": "text/x-python",
   "name": "python",
   "nbconvert_exporter": "python",
   "pygments_lexer": "ipython3",
   "version": "3.8.8"
  }
 },
 "nbformat": 4,
 "nbformat_minor": 5
}
