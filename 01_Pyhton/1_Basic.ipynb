{
 "cells": [
  {
   "cell_type": "code",
   "execution_count": 1,
   "id": "658ff948-1fe6-4300-9b41-9535e90c1fdf",
   "metadata": {},
   "outputs": [],
   "source": [
    "#python\n",
    "# Developed at 1991 \n",
    "#By guido van russam\n",
    "#From\n",
    "#Monty Python flying circus "
   ]
  },
  {
   "cell_type": "markdown",
   "id": "03b943be-6709-48d7-b06c-f5f296d295fc",
   "metadata": {},
   "source": [
    "# Features\n",
    "#1.simple and easy to learn.\n",
    "#2.Open source\n",
    "#3.High Level\n",
    "#4.Platform independent\n",
    "#5.portablity\n",
    "#6.dynamically typed \n",
    "  No need to define data type of variable\n",
    "  int a=10;\n",
    "  b=45.67\n",
    "#7.Both OOP & POP\n",
    "#8.Interpreted \n",
    "#9.Extensible\n",
    "#10.GUI\n",
    "#11.Integration"
   ]
  },
  {
   "cell_type": "markdown",
   "id": "40bc0256-e89b-4207-8f5e-fbe3dfc79fb8",
   "metadata": {},
   "source": [
    "# Identfier\n",
    "### Rules\n",
    "1.No keyword\n",
    "2.Does not start with number "
   ]
  },
  {
   "cell_type": "markdown",
   "id": "3aa5ca5a-0b2c-49cf-b284-91cb17f304fb",
   "metadata": {},
   "source": [
    "# Memory optimization\n",
    "\n",
    "if value is same then address same bt variable name is diffrent "
   ]
  },
  {
   "cell_type": "code",
   "execution_count": 4,
   "id": "3f203ff8-58b5-4134-b9ce-02726b7d154d",
   "metadata": {},
   "outputs": [
    {
     "name": "stdout",
     "output_type": "stream",
     "text": [
      "140709414447184\n",
      "140709414447184\n"
     ]
    }
   ],
   "source": [
    "a=10\n",
    "b=10\n",
    "print(id(a))\n",
    "print(id(b))"
   ]
  },
  {
   "cell_type": "markdown",
   "id": "4c1558d6-cc48-4493-a553-1247f72f2a81",
   "metadata": {},
   "source": [
    "# Data type\n",
    "#1.inbulit data type -int,float,complex,bool,none.\n",
    "#2.sequentional data type-list,tuple,set,dict,frozenset.\n"
   ]
  },
  {
   "cell_type": "code",
   "execution_count": null,
   "id": "e9c95b65-3bb2-4eb3-a810-1f2917fba457",
   "metadata": {},
   "outputs": [],
   "source": []
  }
 ],
 "metadata": {
  "kernelspec": {
   "display_name": "Python 3",
   "language": "python",
   "name": "python3"
  },
  "language_info": {
   "codemirror_mode": {
    "name": "ipython",
    "version": 3
   },
   "file_extension": ".py",
   "mimetype": "text/x-python",
   "name": "python",
   "nbconvert_exporter": "python",
   "pygments_lexer": "ipython3",
   "version": "3.8.8"
  }
 },
 "nbformat": 4,
 "nbformat_minor": 5
}
